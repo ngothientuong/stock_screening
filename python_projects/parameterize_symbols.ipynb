{
 "cells": [
  {
   "cell_type": "code",
   "execution_count": 13,
   "metadata": {},
   "outputs": [
    {
     "name": "stdout",
     "output_type": "stream",
     "text": [
      "['VBIV', 'OPK', 'RUN', 'KOPN', 'MDRPF', 'OBLG', 'CALX', 'FLWS', 'PRTS', 'BCLI']\n",
      "VBIV,OPK,RUN,KOPN,MDRPF,OBLG,CALX,FLWS,PRTS,BCLI\n",
      "VBIV%2OPK%2RUN%2KOPN%2MDRPF%2OBLG%2CALX%2FLWS%2PRTS%2BCLI\n",
      "That took 0.009001493453979492 seconds\n"
     ]
    }
   ],
   "source": [
    "# This python part parameterize a symbols extracted from the TDAmeritrade watchlist\n",
    "# and convert it to joined list to execute quotes request to TDAmeritrade\n",
    "import pandas as pd\n",
    "from delete_multiple_lines import delete_multiple_lines\n",
    "import time\n",
    "import re\n",
    "\n",
    "starttime = time.time()\n",
    "\n",
    "file_name=r'C:\\TuongSharedSpace\\Trading\\WatchLists\\2020-07-19-52WHighDynamic.csv'\n",
    "\n",
    "\n",
    "# Parse the file from raw exported watch list from thinkorswim\n",
    "# Make sure the fist line does not have keyword Symbol.\n",
    "# If it does, that means the file already parsed\n",
    "# Do not parse if it does.\n",
    "with open(file_name, 'r') as f: \n",
    "    line = f.readline() \n",
    "    line = re.findall(r'Symbol', line)\n",
    "    f.close()\n",
    "    del f\n",
    "    if line:\n",
    "        print(line)\n",
    "    else:\n",
    "        delete_multiple_lines(file_name,[0,1,2])\n",
    "    del line\n",
    "####\n",
    "\n",
    "# Grab the first column, named Symbol of the parsed file\n",
    "colnames=['Symbol','Last','%Change','Volume']\n",
    "df = pd.read_csv(file_name)\n",
    "saved_column = df['Symbol']\n",
    "# Convert the colume into a list\n",
    "saved_column_list=saved_column.tolist()\n",
    "print(saved_column.tolist())\n",
    "\n",
    "# Join the list by ',' delimiter\n",
    "join_parameter1=','\n",
    "saved_row1=join_parameter1.join(saved_column.tolist())\n",
    "\n",
    "# Join the list by '%2' delimiter to execute multiple quotes request to TDAmeritrade\n",
    "join_parameter2='%2'\n",
    "saved_row2=join_parameter2.join(saved_column.tolist())\n",
    "\n",
    "print(saved_row1)\n",
    "print(saved_row2)\n",
    "\n",
    "print('That took {} seconds'.format(time.time() - starttime))\n",
    "\n",
    "del saved_row1, saved_row2, df, saved_column_list, join_parameter1, file_name, starttime\n",
    "\n"
   ]
  },
  {
   "cell_type": "code",
   "execution_count": null,
   "metadata": {},
   "outputs": [],
   "source": []
  }
 ],
 "metadata": {
  "kernelspec": {
   "display_name": "Python 3",
   "language": "python",
   "name": "python3"
  },
  "language_info": {
   "codemirror_mode": {
    "name": "ipython",
    "version": 3
   },
   "file_extension": ".py",
   "mimetype": "text/x-python",
   "name": "python",
   "nbconvert_exporter": "python",
   "pygments_lexer": "ipython3",
   "version": "3.8.3"
  }
 },
 "nbformat": 4,
 "nbformat_minor": 4
}
