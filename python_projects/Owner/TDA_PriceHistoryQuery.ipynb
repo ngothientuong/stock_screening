{
 "cells": [
  {
   "cell_type": "code",
   "execution_count": 13,
   "metadata": {},
   "outputs": [],
   "source": [
    "import requests\n",
    "from config import tda_Consumer_Key, tda_Callback_URL\n",
    "import time"
   ]
  },
  {
   "cell_type": "code",
   "execution_count": 15,
   "metadata": {},
   "outputs": [
    {
     "name": "stdout",
     "output_type": "stream",
     "text": [
      "1596465000000\n",
      "1596502800000\n",
      "{'candles': [{'open': 1.38, 'high': 1.38, 'low': 1.38, 'close': 1.38, 'volume': 1, 'datetime': 1596456000000}, {'open': 1.42, 'high': 1.42, 'low': 1.42, 'close': 1.42, 'volume': 3, 'datetime': 1596460500000}, {'open': 1.34, 'high': 1.34, 'low': 1.34, 'close': 1.34, 'volume': 30, 'datetime': 1596460980000}, {'open': 1.42, 'high': 1.42, 'low': 1.42, 'close': 1.42, 'volume': 2389, 'datetime': 1596461400000}, {'open': 1.405, 'high': 1.405, 'low': 1.405, 'close': 1.405, 'volume': 115, 'datetime': 1596461520000}, {'open': 1.39, 'high': 1.39, 'low': 1.39, 'close': 1.39, 'volume': 200, 'datetime': 1596461640000}, {'open': 1.38, 'high': 1.38, 'low': 1.38, 'close': 1.38, 'volume': 1081, 'datetime': 1596461700000}, {'open': 1.3801, 'high': 1.3801, 'low': 1.3801, 'close': 1.3801, 'volume': 2132, 'datetime': 1596462120000}, {'open': 1.4042, 'high': 1.4042, 'low': 1.4042, 'close': 1.4042, 'volume': 1000, 'datetime': 1596462540000}, {'open': 1.4173, 'high': 1.42, 'low': 1.4173, 'close': 1.42, 'volume': 500, 'datetime': 1596462660000}, {'open': 1.42, 'high': 1.44, 'low': 1.4137, 'close': 1.4137, 'volume': 5375, 'datetime': 1596462780000}, {'open': 1.425, 'high': 1.45, 'low': 1.4136, 'close': 1.4136, 'volume': 4885, 'datetime': 1596462840000}, {'open': 1.41, 'high': 1.4175, 'low': 1.41, 'close': 1.4175, 'volume': 211, 'datetime': 1596462900000}, {'open': 1.46, 'high': 1.46, 'low': 1.46, 'close': 1.46, 'volume': 100, 'datetime': 1596463140000}, {'open': 1.45, 'high': 1.45, 'low': 1.45, 'close': 1.45, 'volume': 300, 'datetime': 1596463440000}, {'open': 1.45, 'high': 1.45, 'low': 1.41, 'close': 1.45, 'volume': 531, 'datetime': 1596463500000}, {'open': 1.4344, 'high': 1.4344, 'low': 1.4344, 'close': 1.4344, 'volume': 300, 'datetime': 1596463560000}, {'open': 1.43, 'high': 1.43, 'low': 1.43, 'close': 1.43, 'volume': 300, 'datetime': 1596463860000}, {'open': 1.4332, 'high': 1.4332, 'low': 1.4332, 'close': 1.4332, 'volume': 100, 'datetime': 1596464040000}, {'open': 1.4347, 'high': 1.4347, 'low': 1.4347, 'close': 1.4347, 'volume': 1305, 'datetime': 1596464580000}, {'open': 1.44, 'high': 1.44, 'low': 1.44, 'close': 1.44, 'volume': 200, 'datetime': 1596465660000}, {'open': 1.44, 'high': 1.44, 'low': 1.43, 'close': 1.43, 'volume': 1726, 'datetime': 1596465780000}, {'open': 1.45, 'high': 1.45, 'low': 1.4465, 'close': 1.45, 'volume': 1000, 'datetime': 1596466320000}, {'open': 1.435, 'high': 1.435, 'low': 1.435, 'close': 1.435, 'volume': 400, 'datetime': 1596466920000}, {'open': 1.45, 'high': 1.45, 'low': 1.4429, 'close': 1.4429, 'volume': 3698, 'datetime': 1596466980000}, {'open': 1.425, 'high': 1.425, 'low': 1.425, 'close': 1.425, 'volume': 1000, 'datetime': 1596467160000}, {'open': 1.4292, 'high': 1.4292, 'low': 1.4292, 'close': 1.4292, 'volume': 100, 'datetime': 1596468060000}, {'open': 1.422, 'high': 1.435, 'low': 1.422, 'close': 1.435, 'volume': 999, 'datetime': 1596468120000}, {'open': 1.4421, 'high': 1.4421, 'low': 1.4421, 'close': 1.4421, 'volume': 100, 'datetime': 1596468180000}, {'open': 1.45, 'high': 1.49, 'low': 1.435, 'close': 1.49, 'volume': 17437, 'datetime': 1596468240000}, {'open': 1.49, 'high': 1.5, 'low': 1.46, 'close': 1.5, 'volume': 40226, 'datetime': 1596468300000}, {'open': 1.5, 'high': 1.84, 'low': 1.4768, 'close': 1.84, 'volume': 196192, 'datetime': 1596468360000}, {'open': 1.84, 'high': 1.84, 'low': 1.84, 'close': 1.84, 'volume': 2500, 'datetime': 1596468420000}, {'open': 2.09, 'high': 2.6, 'low': 2.07, 'close': 2.41, 'volume': 514793, 'datetime': 1596469020000}, {'open': 2.41, 'high': 2.71, 'low': 2.25, 'close': 2.5799, 'volume': 452892, 'datetime': 1596469080000}, {'open': 2.58, 'high': 2.7, 'low': 2.51, 'close': 2.64, 'volume': 420202, 'datetime': 1596469140000}, {'open': 2.6, 'high': 2.63, 'low': 2.35, 'close': 2.4, 'volume': 324398, 'datetime': 1596469200000}, {'open': 2.38, 'high': 2.48, 'low': 2.3, 'close': 2.3799, 'volume': 213483, 'datetime': 1596469260000}, {'open': 2.3617, 'high': 2.48, 'low': 2.13, 'close': 2.2269, 'volume': 284512, 'datetime': 1596469320000}, {'open': 2.2, 'high': 2.25, 'low': 2.15, 'close': 2.17, 'volume': 149274, 'datetime': 1596469380000}, {'open': 2.17, 'high': 2.2, 'low': 2.09, 'close': 2.1698, 'volume': 174725, 'datetime': 1596469440000}, {'open': 2.17, 'high': 2.27, 'low': 2.1501, 'close': 2.25, 'volume': 127704, 'datetime': 1596469500000}, {'open': 2.245, 'high': 2.27, 'low': 2.21, 'close': 2.2301, 'volume': 77633, 'datetime': 1596469560000}, {'open': 2.245, 'high': 2.25, 'low': 2.17, 'close': 2.25, 'volume': 130107, 'datetime': 1596469620000}, {'open': 2.2599, 'high': 2.28, 'low': 2.18, 'close': 2.18, 'volume': 52603, 'datetime': 1596469680000}, {'open': 2.25, 'high': 2.256, 'low': 1.975, 'close': 2.01, 'volume': 194835, 'datetime': 1596469740000}, {'open': 2.0, 'high': 2.18, 'low': 2.0, 'close': 2.11, 'volume': 115150, 'datetime': 1596469800000}, {'open': 2.12, 'high': 2.22, 'low': 2.1, 'close': 2.159, 'volume': 98395, 'datetime': 1596469860000}, {'open': 2.16, 'high': 2.16, 'low': 2.0, 'close': 2.06, 'volume': 38763, 'datetime': 1596469920000}, {'open': 2.07, 'high': 2.1, 'low': 2.06, 'close': 2.07, 'volume': 38867, 'datetime': 1596469980000}, {'open': 2.07, 'high': 2.13, 'low': 2.06, 'close': 2.085, 'volume': 53994, 'datetime': 1596470040000}, {'open': 2.09, 'high': 2.1, 'low': 2.07, 'close': 2.0738, 'volume': 15345, 'datetime': 1596470100000}, {'open': 2.071, 'high': 2.08, 'low': 2.01, 'close': 2.025, 'volume': 47959, 'datetime': 1596470160000}, {'open': 2.01, 'high': 2.109, 'low': 1.96, 'close': 2.1, 'volume': 90660, 'datetime': 1596470220000}, {'open': 2.09, 'high': 2.09, 'low': 2.01, 'close': 2.075, 'volume': 35056, 'datetime': 1596470280000}, {'open': 2.07, 'high': 2.1, 'low': 2.065, 'close': 2.09, 'volume': 18880, 'datetime': 1596470340000}, {'open': 2.1, 'high': 2.18, 'low': 2.0956, 'close': 2.16, 'volume': 40292, 'datetime': 1596470400000}, {'open': 2.16, 'high': 2.17, 'low': 2.1, 'close': 2.1234, 'volume': 45646, 'datetime': 1596470460000}, {'open': 2.115, 'high': 2.13, 'low': 2.0404, 'close': 2.0593, 'volume': 18107, 'datetime': 1596470520000}, {'open': 2.05, 'high': 2.0618, 'low': 1.95, 'close': 1.99, 'volume': 53112, 'datetime': 1596470580000}, {'open': 1.99, 'high': 2.01, 'low': 1.95, 'close': 1.95, 'volume': 32110, 'datetime': 1596470640000}, {'open': 1.9596, 'high': 1.9668, 'low': 1.9158, 'close': 1.9199, 'volume': 35534, 'datetime': 1596470700000}, {'open': 1.915, 'high': 1.92, 'low': 1.88, 'close': 1.8801, 'volume': 77127, 'datetime': 1596470760000}, {'open': 1.89, 'high': 1.9, 'low': 1.865, 'close': 1.9, 'volume': 24074, 'datetime': 1596470820000}, {'open': 1.9239, 'high': 1.94, 'low': 1.89, 'close': 1.9304, 'volume': 39032, 'datetime': 1596470880000}, {'open': 1.94, 'high': 1.97, 'low': 1.91, 'close': 1.94, 'volume': 44109, 'datetime': 1596470940000}, {'open': 1.91, 'high': 1.9499, 'low': 1.91, 'close': 1.935, 'volume': 6720, 'datetime': 1596471000000}, {'open': 1.92, 'high': 1.93, 'low': 1.91, 'close': 1.915, 'volume': 11331, 'datetime': 1596471060000}, {'open': 1.92, 'high': 1.92, 'low': 1.865, 'close': 1.87, 'volume': 36655, 'datetime': 1596471120000}, {'open': 1.875, 'high': 1.875, 'low': 1.79, 'close': 1.84, 'volume': 64754, 'datetime': 1596471180000}, {'open': 1.8499, 'high': 1.8603, 'low': 1.84, 'close': 1.8443, 'volume': 18089, 'datetime': 1596471240000}, {'open': 1.8499, 'high': 1.87, 'low': 1.84, 'close': 1.84, 'volume': 23498, 'datetime': 1596471300000}, {'open': 1.845, 'high': 1.86, 'low': 1.83, 'close': 1.8496, 'volume': 25768, 'datetime': 1596471360000}, {'open': 1.838, 'high': 1.86, 'low': 1.82, 'close': 1.82, 'volume': 9272, 'datetime': 1596471420000}, {'open': 1.81, 'high': 1.83, 'low': 1.78, 'close': 1.7899, 'volume': 55334, 'datetime': 1596471480000}, {'open': 1.79, 'high': 1.8, 'low': 1.78, 'close': 1.79, 'volume': 19163, 'datetime': 1596471540000}, {'open': 1.78, 'high': 1.78, 'low': 1.76, 'close': 1.76, 'volume': 13950, 'datetime': 1596471600000}, {'open': 1.77, 'high': 1.78, 'low': 1.77, 'close': 1.775, 'volume': 12507, 'datetime': 1596471660000}, {'open': 1.775, 'high': 1.78, 'low': 1.74, 'close': 1.7401, 'volume': 25137, 'datetime': 1596471720000}, {'open': 1.75, 'high': 1.75, 'low': 1.68, 'close': 1.68, 'volume': 29447, 'datetime': 1596471780000}, {'open': 1.6915, 'high': 1.7115, 'low': 1.68, 'close': 1.705, 'volume': 14624, 'datetime': 1596471840000}, {'open': 1.7, 'high': 1.7099, 'low': 1.66, 'close': 1.6701, 'volume': 27444, 'datetime': 1596471900000}, {'open': 1.675, 'high': 1.68, 'low': 1.66, 'close': 1.68, 'volume': 17775, 'datetime': 1596471960000}, {'open': 1.67, 'high': 1.72, 'low': 1.67, 'close': 1.715, 'volume': 17129, 'datetime': 1596472020000}, {'open': 1.7129, 'high': 1.735, 'low': 1.7129, 'close': 1.73, 'volume': 22535, 'datetime': 1596472080000}, {'open': 1.74, 'high': 1.74, 'low': 1.72, 'close': 1.7365, 'volume': 11975, 'datetime': 1596472140000}, {'open': 1.74, 'high': 1.745, 'low': 1.73, 'close': 1.74, 'volume': 17736, 'datetime': 1596472200000}, {'open': 1.75, 'high': 1.75, 'low': 1.735, 'close': 1.7371, 'volume': 24273, 'datetime': 1596472260000}, {'open': 1.73, 'high': 1.75, 'low': 1.71, 'close': 1.7204, 'volume': 12150, 'datetime': 1596472320000}, {'open': 1.7257, 'high': 1.75, 'low': 1.7257, 'close': 1.7372, 'volume': 11824, 'datetime': 1596472380000}, {'open': 1.73, 'high': 1.73, 'low': 1.725, 'close': 1.725, 'volume': 1475, 'datetime': 1596472440000}, {'open': 1.72, 'high': 1.74, 'low': 1.72, 'close': 1.74, 'volume': 300, 'datetime': 1596472500000}, {'open': 1.73, 'high': 1.74, 'low': 1.73, 'close': 1.73, 'volume': 2700, 'datetime': 1596472560000}, {'open': 1.735, 'high': 1.74, 'low': 1.71, 'close': 1.7201, 'volume': 12293, 'datetime': 1596472620000}, {'open': 1.725, 'high': 1.725, 'low': 1.68, 'close': 1.6999, 'volume': 18316, 'datetime': 1596472680000}, {'open': 1.6802, 'high': 1.7199, 'low': 1.668, 'close': 1.6899, 'volume': 20200, 'datetime': 1596472740000}, {'open': 1.6799, 'high': 1.69, 'low': 1.66, 'close': 1.68, 'volume': 10050, 'datetime': 1596472800000}, {'open': 1.69, 'high': 1.71, 'low': 1.6667, 'close': 1.6668, 'volume': 21761, 'datetime': 1596472860000}, {'open': 1.67, 'high': 1.69, 'low': 1.63, 'close': 1.64, 'volume': 39246, 'datetime': 1596472920000}, {'open': 1.6601, 'high': 1.68, 'low': 1.66, 'close': 1.66, 'volume': 3200, 'datetime': 1596472980000}, {'open': 1.675, 'high': 1.68, 'low': 1.6729, 'close': 1.6758, 'volume': 1778, 'datetime': 1596473040000}, {'open': 1.67, 'high': 1.6701, 'low': 1.63, 'close': 1.6524, 'volume': 34501, 'datetime': 1596473100000}, {'open': 1.65, 'high': 1.65, 'low': 1.64, 'close': 1.64, 'volume': 3506, 'datetime': 1596473160000}, {'open': 1.64, 'high': 1.6429, 'low': 1.6263, 'close': 1.6263, 'volume': 3850, 'datetime': 1596473220000}, {'open': 1.625, 'high': 1.6499, 'low': 1.61, 'close': 1.6401, 'volume': 15459, 'datetime': 1596473280000}, {'open': 1.6461, 'high': 1.69, 'low': 1.64, 'close': 1.67, 'volume': 7048, 'datetime': 1596473340000}, {'open': 1.6804, 'high': 1.69, 'low': 1.6801, 'close': 1.6801, 'volume': 4000, 'datetime': 1596473400000}, {'open': 1.6801, 'high': 1.6865, 'low': 1.6801, 'close': 1.6865, 'volume': 4100, 'datetime': 1596473460000}], 'symbol': 'FORD', 'empty': False}\n",
      "That took 0.12975215911865234 seconds\n"
     ]
    }
   ],
   "source": [
    "starttime = time.time()\n",
    "\n",
    "ticker='FORD'\n",
    "begindate = '20200803093000'\n",
    "enddate = '20200803200000'\n",
    "pattern = '%Y%m%d%H%M%S'\n",
    "begindate_epoch = int(time.mktime(time.strptime(begindate, pattern))) * 1000\n",
    "endate_epoch = int(time.mktime(time.strptime(enddate, pattern))) * 1000\n",
    "# the daily prices endpoint\n",
    "print(begindate_epoch)\n",
    "print(endate_epoch)\n",
    "\n",
    "\n",
    "# define  our endpoint\n",
    "endpoint = r\"https://api.tdameritrade.com/v1/marketdata/{}/pricehistory\".format(ticker)\n",
    "\n",
    "# define our payload\n",
    "# if endDate, startDate provided, then periodType not needed. Default is pervious trading day\n",
    "\n",
    "payload = {\n",
    "           'apikey':tda_Consumer_Key,\n",
    "           #'periodType':'day',\n",
    "           #'period':'3',\n",
    "           'frequencyType':'minute',\n",
    "           'frequency':'1',\n",
    "           'startDate':begindate_epoch,\n",
    "           'endDate':endate_epoch,\n",
    "           'needExtendedHoursData':'true',\n",
    "          }\n",
    "\n",
    "# make a request\n",
    "content = requests.get(url = endpoint, params = payload)\n",
    "\n",
    "# convert it to a dictionary\n",
    "data = content.json()\n",
    "#data\n",
    "print(data)\n",
    "\n",
    "\n",
    "print('That took {} seconds'.format(time.time() - starttime))\n",
    "\n",
    "del starttime, begindate_epoch, endate_epoch, pattern, begindate, enddate, endpoint, ticker, data\n",
    "\n",
    "\n",
    "\n",
    "\n"
   ]
  },
  {
   "cell_type": "code",
   "execution_count": null,
   "metadata": {},
   "outputs": [],
   "source": []
  }
 ],
 "metadata": {
  "kernelspec": {
   "display_name": "Python 3",
   "language": "python",
   "name": "python3"
  },
  "language_info": {
   "codemirror_mode": {
    "name": "ipython",
    "version": 3
   },
   "file_extension": ".py",
   "mimetype": "text/x-python",
   "name": "python",
   "nbconvert_exporter": "python",
   "pygments_lexer": "ipython3",
   "version": "3.8.3"
  }
 },
 "nbformat": 4,
 "nbformat_minor": 4
}
