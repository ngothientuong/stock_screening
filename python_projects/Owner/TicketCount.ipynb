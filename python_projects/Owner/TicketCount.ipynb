{
 "cells": [
  {
   "cell_type": "code",
   "execution_count": 1,
   "metadata": {},
   "outputs": [
    {
     "name": "stdout",
     "output_type": "stream",
     "text": [
      "1849\n",
      "That took 0.0010004043579101562 seconds\n"
     ]
    }
   ],
   "source": [
    "# This python part parameterize a symbols extracted from the TDAmeritrade watchlist\n",
    "# and convert it to joined list to execute quotes request to TDAmeritrade\n",
    "import pandas as pd\n",
    "from delete_multiple_lines import delete_multiple_lines\n",
    "import time\n",
    "import re\n",
    "\n",
    "starttime = time.time()\n",
    "\n",
    "#file_name=r'C:\\TuongSharedSpace\\Trading\\WatchLists\\2020-07-19-52WHighDynamic.csv'\n",
    "file_name=r'C:\\Users\\Owner\\junk.txt'\n",
    "\n",
    "\n",
    "# Parse the file from raw exported watch list from thinkorswim\n",
    "# Make sure the fist line does not have keyword Symbol.\n",
    "# If it does, that means the file already parsed\n",
    "# Do not parse if it does.\n",
    "with open(file_name, 'r') as f: \n",
    "    line = f.readline() \n",
    "    line_list = line.split(\",\")\n",
    "    f.close()\n",
    "    del f\n",
    "    if line_list:\n",
    "        index = 0;\n",
    "        for element in line_list:\n",
    "            index+=1;\n",
    "        print(index)\n",
    "    else:\n",
    "        print(\"nothing\")\n",
    "    del line\n",
    "####\n",
    "\n",
    "print('That took {} seconds'.format(time.time() - starttime))\n"
   ]
  }
 ],
 "metadata": {
  "kernelspec": {
   "display_name": "Python 3",
   "language": "python",
   "name": "python3"
  },
  "language_info": {
   "codemirror_mode": {
    "name": "ipython",
    "version": 3
   },
   "file_extension": ".py",
   "mimetype": "text/x-python",
   "name": "python",
   "nbconvert_exporter": "python",
   "pygments_lexer": "ipython3",
   "version": "3.8.3"
  }
 },
 "nbformat": 4,
 "nbformat_minor": 4
}
