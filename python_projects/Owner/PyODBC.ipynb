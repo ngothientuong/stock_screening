{
 "cells": [
  {
   "cell_type": "code",
   "execution_count": 1,
   "metadata": {},
   "outputs": [
    {
     "name": "stdout",
     "output_type": "stream",
     "text": [
      "SQL Server\n",
      "SQL Server Native Client 11.0\n",
      "SQL Server Native Client RDA 11.0\n",
      "ODBC Driver 17 for SQL Server\n"
     ]
    }
   ],
   "source": [
    "import pyodbc\n",
    "\n",
    "# Loop through all the drivers we have access to\n",
    "for driver in pyodbc.drivers():\n",
    "    print(driver)\n",
    "    "
   ]
  },
  {
   "cell_type": "code",
   "execution_count": 3,
   "metadata": {},
   "outputs": [
    {
     "name": "stdout",
     "output_type": "stream",
     "text": [
      "(1, Decimal('2'), Decimal('3'), Decimal('1'), Decimal('2'), 100, datetime.date(2019, 1, 2))\n",
      "(2, Decimal('3'), Decimal('3'), Decimal('5'), Decimal('9'), 300, datetime.date(2020, 2, 5))\n",
      "(3, Decimal('4'), Decimal('2'), Decimal('1'), Decimal('2'), 200, datetime.date(2021, 3, 7))\n",
      "(4, Decimal('2'), Decimal('3'), Decimal('1'), Decimal('2'), 100, datetime.date(2019, 1, 2))\n",
      "(5, Decimal('3'), Decimal('3'), Decimal('5'), Decimal('9'), 300, datetime.date(2020, 2, 5))\n",
      "(6, Decimal('4'), Decimal('2'), Decimal('1'), Decimal('2'), 200, datetime.date(2021, 3, 7))\n",
      "(7, Decimal('2'), Decimal('3'), Decimal('1'), Decimal('2'), 100, datetime.date(2019, 1, 2))\n",
      "(8, Decimal('3'), Decimal('3'), Decimal('5'), Decimal('9'), 300, datetime.date(2020, 2, 5))\n",
      "(9, Decimal('4'), Decimal('2'), Decimal('1'), Decimal('2'), 200, datetime.date(2021, 3, 7))\n",
      "(10, Decimal('2'), Decimal('3'), Decimal('1'), Decimal('2'), 100, datetime.date(2019, 1, 2))\n",
      "(11, Decimal('3'), Decimal('3'), Decimal('5'), Decimal('9'), 300, datetime.date(2020, 2, 5))\n",
      "(12, Decimal('4'), Decimal('2'), Decimal('1'), Decimal('2'), 200, datetime.date(2021, 3, 7))\n",
      "(13, Decimal('2'), Decimal('3'), Decimal('1'), Decimal('2'), 100, datetime.date(2019, 1, 2))\n",
      "(14, Decimal('3'), Decimal('3'), Decimal('5'), Decimal('9'), 300, datetime.date(2020, 2, 5))\n",
      "(15, Decimal('4'), Decimal('2'), Decimal('1'), Decimal('2'), 200, datetime.date(2021, 3, 7))\n"
     ]
    }
   ],
   "source": [
    "# define the server name and the database name\n",
    "server = 'TuongDesktop\\TUONGSQL'\n",
    "database = 'tradingdb'\n",
    "db_username = 'ngothientuong'\n",
    "db_password = 'XXXXXX'\n",
    "\n",
    "#price_data = [[1, 2.00, 3.00, 1.00, 2.40, 100.00, '1/2/2019'],\n",
    "#              [2, 3.00, 3.00, 5.00, 9.00, 300.00, '2/5/2020'],\n",
    "#              [3, 4.00, 2.00, 1.00, 2.40, 200.00, '3/7/2021']]\n",
    "\n",
    "price_data = [[2.00, 3.00, 1.00, 2.40, 100.00, '1/2/2019'],\n",
    "              [3.00, 3.00, 5.00, 9.00, 300.00, '2/5/2020'],\n",
    "              [4.00, 2.00, 1.00, 2.40, 200.00, '3/7/2021']]\n",
    "\n",
    "# define our connection string\n",
    "cnxn = pyodbc.connect('DRIVER={ODBC Driver 17 for SQL Server}; \\\n",
    "                       SERVER=' + server + '; \\\n",
    "                       DATABASE=' + database + '; \\\n",
    "                       UID=' + db_username + '; \\\n",
    "                       PWD=' + db_password)\n",
    "                       #Trusted Connection=yes;')\n",
    "\n",
    "# create the connection cursor\n",
    "cursor = cnxn.cursor()\n",
    "\n",
    "# define our insert query\n",
    "insert_query = '''INSERT INTO stocktb(close_price, high, low, open_price, volume, day_value)\n",
    "                  VALUES (?, ?, ?, ?, ?, ? );'''\n",
    "\n",
    "# loop through each row in the matrix\n",
    "for row in price_data:\n",
    "    # define the value to insert\n",
    "    values = (row[0], row[1], row[2], row[3], row[4], row[5])\n",
    "    \n",
    "    # insert the data into the database\n",
    "    cursor.execute(insert_query, values)\n",
    "# commit the inserts\n",
    "cnxn.commit()\n",
    "\n",
    "# grab all the rows in our database table\n",
    "cursor.execute('SELECT * FROM stocktb')\n",
    "\n",
    "# loop through the results\n",
    "for row in cursor:\n",
    "    print(row)\n",
    "    \n",
    "cursor.close()\n",
    "cnxn.close()\n",
    "\n",
    "# del cursor, cnxn, insert_query, db_password, db_username, database, server;"
   ]
  },
  {
   "cell_type": "code",
   "execution_count": null,
   "metadata": {},
   "outputs": [],
   "source": []
  }
 ],
 "metadata": {
  "kernelspec": {
   "display_name": "Python 3",
   "language": "python",
   "name": "python3"
  },
  "language_info": {
   "codemirror_mode": {
    "name": "ipython",
    "version": 3
   },
   "file_extension": ".py",
   "mimetype": "text/x-python",
   "name": "python",
   "nbconvert_exporter": "python",
   "pygments_lexer": "ipython3",
   "version": "3.8.3"
  }
 },
 "nbformat": 4,
 "nbformat_minor": 4
}
